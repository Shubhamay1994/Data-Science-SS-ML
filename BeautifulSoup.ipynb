{
 "cells": [
  {
   "cell_type": "markdown",
   "metadata": {},
   "source": [
    "    Steps:\n",
    "    \n",
    "    1.Fetching The HTML Content:\n",
    "    *in order to work with HTML,we will have to get HTML as a string.\n",
    "    *We will leverage the power of python 'request' module to get this done\n",
    "    *the next step then will be to parse the HTML content and give ita tree like structure so that it can be traversed\n",
    "    "
   ]
  },
  {
   "cell_type": "markdown",
   "metadata": {},
   "source": [
    "    2 Parse the HTML:\n",
    "    *Once the HTML is fetch using request as an string we need to parse it.\n",
    "    *for parsing we will use python's BeautifulSoup module which will create a tree like structure for our DOM"
   ]
  },
  {
   "cell_type": "markdown",
   "metadata": {},
   "source": [
    "    3.Once the HTML is fetchand parsed the next step is to manipulate the tree using beautiful's soup function to get our job done"
   ]
  },
  {
   "cell_type": "code",
   "execution_count": 1,
   "metadata": {},
   "outputs": [],
   "source": [
    "#import all the requried library\n",
    "import requests\n",
    "from bs4 import BeautifulSoup\n",
    "url=\"https://codewithharry.com\""
   ]
  },
  {
   "cell_type": "code",
   "execution_count": 5,
   "metadata": {},
   "outputs": [],
   "source": [
    "#get the html\n",
    "r=requests.get(url)"
   ]
  },
  {
   "cell_type": "code",
   "execution_count": 6,
   "metadata": {},
   "outputs": [],
   "source": [
    "htmlcontent=r.content"
   ]
  },
  {
   "cell_type": "code",
   "execution_count": 8,
   "metadata": {},
   "outputs": [
    {
     "data": {
      "text/plain": [
       "b'<!doctype html>\\n<html lang=\"en\">\\n\\n<head>\\n\\n  <!-- Required meta tags -->\\n  <meta charset=\"utf-8\">\\n  <meta name=\"viewport\" content=\"width=device-width, initial-scale=1, shrink-to-fit=no\">\\n  <meta name=\"description\" content=\"Code With Harry is my attempt to teach basics and those coding techniques to people in short time which took me ages to learn. At Code With Harry, I provide a quick and to the point demo along with resources of anything and everything I teach. Source code and other resources are hosted on my website CodeWithHarry.com. I provide source code(if any) in the description of every video.\\n\"> \\n\\n  \\n  <title>Free Programming Videos, Courses & More In Hindi - Code With Harry</title>\\n  <!-- Bootstrap CSS -->\\n  <link rel=\"stylesheet\" href=\"https://stackpath.bootstrapcdn.com/bootstrap/4.3.1/css/bootstrap.min.css\"\\n    integrity=\"sha384-ggOyR0iXCbMQv3Xipma34MD+dH/1fQ784/j6cY/iJTQUOhcWr7x9JvoRxT2MZw1T\" crossorigin=\"anonymous\">\\n  \\n<link rel=\"stylesheet\" href=\"/static/home/css/index.css\">\\n\\n\\n  \\n  <link rel=\"stylesheet\" href=\"/static/home/css/navbar.css\">\\n  <link rel=\"icon\" type=\"image/png\" href=\"/static/home/img/favicon.png\"> \\n\\n  <!-- Global site tag (gtag.js) - Google Analytics -->\\n  <script async src=\"https://www.googletagmanager.com/gtag/js?id=UA-60726752-3\"></script>\\n  <script>\\n    window.dataLayer = window.dataLayer || [];\\n    function gtag() { dataLayer.push(arguments); }\\n    gtag(\\'js\\', new Date());\\n    gtag(\\'config\\', \\'UA-60726752-3\\');\\n  </script>\\n\\n  <!-- Google Ads Auto -->\\n  <script async src=\"//pagead2.googlesyndication.com/pagead/js/adsbygoogle.js\"></script>\\n  <script>\\n    (adsbygoogle = window.adsbygoogle || []).push({\\n      google_ad_client: \"ca-pub-9655830461045889\",\\n      enable_page_level_ads: true\\n    });\\n  </script>\\n\\n</head>\\n\\n<body>\\n  <nav class=\"navbar navbar-expand-lg navbar-dark bg-dark\">\\n    <a class=\"navbar-brand\" href=\"/\"><img class=\"brandLogo\" src=\"/static/home/img/photo.png\" alt=\"My image\"></a>\\n\\n    <button class=\"navbar-toggler\" type=\"button\" data-toggle=\"collapse\" data-target=\"#navbarSupportedContent\"\\n      aria-controls=\"navbarSupportedContent\" aria-expanded=\"false\" aria-label=\"Toggle navigation\">\\n      <span class=\"navbar-toggler-icon\"></span>\\n    </button>\\n\\n    <div class=\"collapse navbar-collapse\" id=\"navbarSupportedContent\">\\n      <ul class=\"navbar-nav mr-auto\">\\n\\n        <li class=\"nav-item font-weight-bold\">\\n          <a class=\"nav-link\" href=\"/\">Home</a>\\n        </li>\\n\\n        <li class=\"nav-item font-weight-bold\">\\n          <a class=\"nav-link\" href=\"/videos\">Videos</a>\\n        </li>\\n\\n        <li class=\"nav-item font-weight-bold\">\\n          <a class=\"nav-link\" href=\"/blog\">Blog</a>\\n        </li>\\n\\n        <li class=\"nav-item font-weight-bold\">\\n          <a class=\"nav-link\" href=\"/contact\">Contact Me</a>\\n        </li>\\n      </ul>\\n\\n      <form class=\"form-inline my-2 my-lg-0 mr-3\" method=\"get\" action=\"/search/\">\\n        <input class=\"form-control mr-sm-2\" type=\"search\" placeholder=\"Search\" aria-label=\"Search\" name=\"query\">\\n        <button class=\"btn btn-danger my-2 my-sm-0\" type=\"submit\">Search</button>\\n\\n      </form>\\n      \\n      <div>\\n        <button type=\"button\" class=\"btn btn-danger\" data-toggle=\"modal\" data-target=\"#loginModal\">Login</button>\\n        <button type=\"button\" class=\"btn btn-danger\" data-toggle=\"modal\" data-target=\"#signupModal\">SignUp</button>\\n      </div>\\n      \\n    </div>\\n\\n  </nav>\\n  \\n  \\n  <!-- Login Modal -->\\n<div class=\"modal fade\" id=\"loginModal\" tabindex=\"-1\" role=\"dialog\" aria-labelledby=\"loginModal\" aria-hidden=\"true\">\\n    <div class=\"modal-dialog\" role=\"document\">\\n        <div class=\"modal-content\">\\n            \\n            <div class=\"modal-header\">\\n                <h5 class=\"modal-title\" id=\"loginModal\">Login using your credentials</h5>\\n                <button type=\"button\" class=\"close\" data-dismiss=\"modal\" aria-label=\"Close\">\\n                    <span aria-hidden=\"true\">&times;</span>\\n                </button>\\n            </div>\\n\\n            <div class=\"modal-body\">\\n                <form action=\"/profile/login\" method=\\'post\\'><input type=\"hidden\" name=\"csrfmiddlewaretoken\" value=\"CYSWsFjOapadcp2gxFbARWpK5Bm4vH2EdgigU4VXxA66OEfLSSI0prwdvkklgaRh\">\\n                    <div class=\"form-group\">\\n                        <label for=\"lusername\">Username</label>\\n                        <input type=\"name\" class=\"form-control\" id=\"luname\" placeholder=\"Enter your username\"\\n                            name=\"uname\">\\n                    </div>\\n                    <div class=\"form-group\">\\n                        <label for=\"password\">Password</label>\\n                        <input type=\"password\" class=\"form-control\" id=\"lpassword\" placeholder=\"Enter your password\"\\n                            name=\"password\">\\n                    </div>\\n                    <div class=\"g-recaptcha\" data-sitekey=\"6LdvcqwUAAAAACmPYNVoiJA7D84xLSQQt5g9p10m\"></div>\\n                    <input type=\"hidden\" name=\"path\" value=\"/\">\\n\\n                    <button type=\"submit\" class=\"btn btn-danger mt-2\" id=\"loginsubmit\">Login</button>\\n                </form>\\n            </div>\\n\\n            <div class=\"modal-footer\">\\n                <button type=\"button\" class=\"btn btn-secondary\" data-dismiss=\"modal\">Close</button>\\n            </div>\\n\\n        </div>\\n    </div>\\n</div>\\n  <!-- SignUp Modal -->\\n<div class=\"modal fade\" id=\"signupModal\" tabindex=\"-1\" role=\"dialog\" aria-labelledby=\"signupModal\" aria-hidden=\"true\">\\n  <div class=\"modal-dialog\" role=\"document\">\\n    <div class=\"modal-content\">\\n      <div class=\"modal-header\">\\n        <h5 class=\"modal-title\" id=\"signupModal\">SignUp for an account</h5>\\n        <button type=\"button\" class=\"close\" data-dismiss=\"modal\" aria-label=\"Close\">\\n          <span aria-hidden=\"true\">&times;</span>\\n        </button>\\n      </div>\\n\\n      <div class=\"modal-body\">\\n        <form name=\"contact\" method=\"post\" action=\"/profile/signup\"><input type=\"hidden\" name=\"csrfmiddlewaretoken\" value=\"CYSWsFjOapadcp2gxFbARWpK5Bm4vH2EdgigU4VXxA66OEfLSSI0prwdvkklgaRh\">\\n\\n          <div class=\"form-group\">\\n            <label for=\"uname\">Username</label>\\n            <input type=\"text\" class=\"form-control\" id=\"uname\" placeholder=\"Enter your Name\" name=\"uname\">\\n            <small id=\"unamehelp\" class=\"form-text text-muted px-1\">\\n              Your unique username must be less than 10 characters (only lowecase letters, numbers & underscores\\n              allowed) with no spaces\\n            </small>\\n          </div>\\n          <div class=\"form-group\">\\n            <label for=\"name\">First Name</label>\\n            <input type=\"text\" class=\"form-control\" id=\"fname\" placeholder=\"Enter your First Name\" name=\"fname\">\\n          </div>\\n          <div class=\"form-group\">\\n            <label for=\"name\">Last Name</label>\\n            <input type=\"text\" class=\"form-control\" id=\"lname\" placeholder=\"Enter your Last Name\" name=\"lname\">\\n          </div>\\n\\n          <div class=\"form-group\">\\n            <label for=\"email\">Your Email</label>\\n            <div class=\"mx-0\">\\n              <div class=\"col-md-8 px-0\">\\n                <input type=\"email\" class=\"form-control\" id=\"email\" placeholder=\"Enter your Email\" name=\"email\">\\n                <small id=\"otpMessage\" class=\"form-text\"></small>\\n              </div>\\n              <div class=\"col-md-4 my-1 px-0\">\\n                <button class=\"btn btn-danger btn-sm mt-2\" id=\"otpbtn\">Send OTP</button>\\n              </div>\\n            </div>\\n\\n          </div>\\n          <div class=\"form-group\">\\n            <label for=\"otp\">Enter OTP</label>\\n            <input type=\"text\" class=\"form-control\" id=\"otp\" placeholder=\"Enter OTP\" name=\"otp\">\\n          </div>\\n\\n          <div class=\"form-group\">\\n            <label for=\"password\">Choose a password</label>\\n            <input type=\"password\" class=\"form-control\" id=\"password\" placeholder=\"Choose a password\" name=\"password\">\\n          </div>\\n          <div class=\"form-group\">\\n            <label for=\"password2\">Retype a password</label>\\n            <input type=\"password\" class=\"form-control\" id=\"password2\" placeholder=\"Retype your password\"\\n              name=\"password2\">\\n          </div>\\n          <div class=\"g-recaptcha\" data-sitekey=\"6LdvcqwUAAAAACmPYNVoiJA7D84xLSQQt5g9p10m\"></div>\\n          <input type=\"hidden\" name=\"path\" value=\"/\">\\n          <button type=\"submit\" class=\"btn btn-danger mt-2\">SignUp</button>\\n        </form>\\n      </div>\\n\\n      <div class=\"modal-footer\">\\n        <button type=\"button\" class=\"btn btn-secondary\" data-dismiss=\"modal\">Close</button>\\n      </div>\\n    </div>\\n  </div>\\n</div>\\n  \\n  \\n<section class=\"jumbotron text-center\">\\n    <div class=\"container\">\\n        <img src=\"/static/home/img/photo.png\" alt=\"logo\" width=\"120\">\\n        <h1 class=\"jumbotron-heading\"><span id=\"typed\"></span></h1>\\n        <p class=\"lead text-muted\">Confused on which course to take? I have got you covered. Browse courses and find out\\n            the best course for you. Its free!<br>Code With Harry is my attempt to teach basics and those coding\\n            techniques to people in short time which took me ages to learn.</p>\\n        <p>\\n            <a href=\"/blog\" class=\"btn btn-danger my-2\">Browse Blog</a>\\n            <a href=\"/videos\" class=\"btn btn-success my-2\">Browse Video Tutorials</a>\\n            <a href=\"/contact\" class=\"btn btn-primary my-2\">Contact Me</a>\\n        </p>\\n    </div>\\n</section>\\n\\n<div class=\"container\">\\n    <div class=\"row\">\\n        <div class=\"card mx-auto my-2 p-2 align-items-center\" style=\"width: 18rem;\">\\n            <img src=\"/static/home/img/coding.jpg\" class=\"padded card-img-top\" alt=\"...\">\\n            <div class=\"card-body\">\\n                <h5 class=\"card-title text-center\">Free Video Courses</h5>\\n                <p class=\"card-text text-center\">Get your programming career started with these free video courses. Source code is\\n                    available with all the videos for your better experience</p>\\n                <a href=\"/videos\" class=\"btn btn-primary d-block\">Browse Video Courses</a>\\n            </div>\\n        </div>\\n\\n        <div class=\"card mx-auto my-2 p-2 align-items-center\" style=\"width: 18rem;\">\\n            <img src=\"/static/home/img/lambda.png\" class=\"padded card-img-top\" alt=\"...\">\\n            <div class=\"card-body\">\\n                <h5 class=\"card-title text-center\">Coding Articles</h5>\\n                <p class=\"card-text text-center\">Some of the latest coding information compiled as coding articles. Keep your\\n                    programming knowledge up to date with our coding articles.</p>\\n                <a href=\"/blog\" class=\"btn btn-primary d-block\">Go to Blog</a>\\n            </div>\\n        </div>\\n\\n        <div class=\"card mx-auto my-2 p-2 align-items-center\" style=\"width: 18rem;\">\\n            <img src=\"/static/home/img/python.png\" class=\"padded card-img-top\" alt=\"...\">\\n            <div class=\"card-body\">\\n                <h5 class=\"card-title text-center\">Contact Me</h5>\\n                <p class=\"card-text text-center\">Learn programming from our free courses. Examples are available with these\\n                    tutorials. You can contact me for any doubt and I will get back to you!</p>\\n                <a href=\"/contact\" class=\"btn btn-primary d-block\">Contact Me</a>\\n            </div>\\n        </div>\\n\\n    </div>\\n\\n</div>\\n\\n\\n\\n  <!-- FOOTER -->\\n  <footer class=\"container-fluid bg-dark my-0 py-3 text-light\">\\n    <p class=\"mb-0 text-center\">&copy; 2020-2021 CodeWithHarry.com</p>\\n    <p class=\"mb-0 text-center\">\\n      <a href=\"#\">Back to top |</a>\\n      <a href=\"#\">Privacy |</a>\\n      <a href=\"#\">Terms</a>\\n    </p>\\n\\n  </footer>\\n  <!-- Custom JavaScript -->\\n  <script src=\"https://apis.google.com/js/platform.js\" defer></script>\\n  <script src=\"https://www.google.com/recaptcha/api.js\" async defer></script>\\n\\n  <!-- jQuery first, then Popper.js, then Bootstrap JS -->\\n  <script src=\"https://code.jquery.com/jquery-3.3.1.slim.min.js\"\\n    integrity=\"sha384-q8i/X+965DzO0rT7abK41JStQIAqVgRVzpbzo5smXKp4YfRvH+8abtTE1Pi6jizo\"\\n    crossorigin=\"anonymous\"></script>\\n  <script src=\"https://cdnjs.cloudflare.com/ajax/libs/popper.js/1.14.7/umd/popper.min.js\"\\n    integrity=\"sha384-UO2eT0CpHqdSJQ6hJty5KVphtPhzWj9WO1clHTMGa3JDZwrnQq4sF86dIHNDz0W1\"\\n    crossorigin=\"anonymous\"></script>\\n  <script src=\"https://stackpath.bootstrapcdn.com/bootstrap/4.3.1/js/bootstrap.min.js\"\\n    integrity=\"sha384-JjSmVgyd0p3pXB1rRibZUAYoIIy6OrQ6VrjIEaFf/nJGzIxFDsf4x0xIM+B07jRM\"\\n    crossorigin=\"anonymous\"></script>\\n  <script src=\"https://kit.fontawesome.com/433888fe69.js\" crossorigin=\"anonymous\" defer></script>\\n  <script>\\n    function getCookie(name) {\\n      const value = `; ${document.cookie}`;\\n      const parts = value.split(`; ${name}=`);\\n      if (parts.length === 2) return parts.pop().split(\\';\\').shift();\\n    }\\n    let otpbtn = document.getElementById(\\'otpbtn\\');\\n    if (otpbtn != undefined) {\\n      otpbtn.addEventListener(\\'click\\', (e) => {\\n        otpbtn.innerText = \\'Sending...\\';\\n        e.preventDefault();\\n        if (!otpbtn.classList.contains(\\'disabled\\')) {\\n          otpbtn.classList.add(\\'disabled\\');\\n          otpbtn.disabled = true;\\n          csrf_token = getCookie(\\'csrftoken\\');\\n          let formData = new FormData();\\n          formData.append(\\'email\\', document.getElementById(\\'email\\').value);\\n          formData.append(\\'csrfmiddlewaretoken\\', csrf_token);\\n          fetch(\\'/utils/sendotp\\', {\\n            method: \\'POST\\',\\n            body: formData\\n          })\\n            .then(response => response.text())\\n            .then(data => {\\n              console.log(data);\\n              if (data.startsWith(\"Error\")) {\\n                otpMessage.classList.add(\\'text-danger\\');\\n                otpbtn.innerText = \\'Error\\';\\n              }\\n              else {\\n                otpMessage.classList.add(\\'text-success\\');\\n                otpbtn.innerText = \\'OTP Sent\\';\\n              }\\n              otpMessage.innerText = data;\\n            })\\n            .catch(error => {\\n              console.error(error)\\n            })\\n        }\\n        else {\\n          // Otp has already been sent\\n        }\\n\\n      });\\n    }\\n  </script>\\n  \\n<script src=\"https://cdnjs.cloudflare.com/ajax/libs/typed.js/2.0.9/typed.min.js\" async defer></script>\\n<script>\\n    window.onload = function () {\\n        console.log(\"loaded\")\\n        var typed = new Typed(\\'#typed\\', {\\n            strings: [\"Welcome to CodeWithHarry\", \"Learn Python\", \"Web development\", \"Data Science\", \"Machine Learning\", \"and other awesome programming concepts with me :)\"],\\n            backSpeed: 15,\\n            smartBackspace: true,\\n            backDelay: 1200,\\n            startDelay: 1000,\\n            typeSpeed: 25,\\n            loop: true,\\n        });\\n    };\\n</script>\\n\\n</body>\\n\\n</html>'"
      ]
     },
     "execution_count": 8,
     "metadata": {},
     "output_type": "execute_result"
    }
   ],
   "source": [
    "htmlcontent"
   ]
  },
  {
   "cell_type": "code",
   "execution_count": 9,
   "metadata": {},
   "outputs": [],
   "source": [
    "#parse the HTML\n",
    "soup=BeautifulSoup(htmlcontent,'html.parser')"
   ]
  },
  {
   "cell_type": "code",
   "execution_count": 11,
   "metadata": {},
   "outputs": [
    {
     "data": {
      "text/plain": [
       "<bound method Tag.prettify of <!DOCTYPE html>\n",
       "\n",
       "<html lang=\"en\">\n",
       "<head>\n",
       "<!-- Required meta tags -->\n",
       "<meta charset=\"utf-8\"/>\n",
       "<meta content=\"width=device-width, initial-scale=1, shrink-to-fit=no\" name=\"viewport\"/>\n",
       "<meta content=\"Code With Harry is my attempt to teach basics and those coding techniques to people in short time which took me ages to learn. At Code With Harry, I provide a quick and to the point demo along with resources of anything and everything I teach. Source code and other resources are hosted on my website CodeWithHarry.com. I provide source code(if any) in the description of every video.\n",
       "\" name=\"description\"/>\n",
       "<title>Free Programming Videos, Courses &amp; More In Hindi - Code With Harry</title>\n",
       "<!-- Bootstrap CSS -->\n",
       "<link crossorigin=\"anonymous\" href=\"https://stackpath.bootstrapcdn.com/bootstrap/4.3.1/css/bootstrap.min.css\" integrity=\"sha384-ggOyR0iXCbMQv3Xipma34MD+dH/1fQ784/j6cY/iJTQUOhcWr7x9JvoRxT2MZw1T\" rel=\"stylesheet\"/>\n",
       "<link href=\"/static/home/css/index.css\" rel=\"stylesheet\"/>\n",
       "<link href=\"/static/home/css/navbar.css\" rel=\"stylesheet\"/>\n",
       "<link href=\"/static/home/img/favicon.png\" rel=\"icon\" type=\"image/png\"/>\n",
       "<!-- Global site tag (gtag.js) - Google Analytics -->\n",
       "<script async=\"\" src=\"https://www.googletagmanager.com/gtag/js?id=UA-60726752-3\"></script>\n",
       "<script>\n",
       "    window.dataLayer = window.dataLayer || [];\n",
       "    function gtag() { dataLayer.push(arguments); }\n",
       "    gtag('js', new Date());\n",
       "    gtag('config', 'UA-60726752-3');\n",
       "  </script>\n",
       "<!-- Google Ads Auto -->\n",
       "<script async=\"\" src=\"//pagead2.googlesyndication.com/pagead/js/adsbygoogle.js\"></script>\n",
       "<script>\n",
       "    (adsbygoogle = window.adsbygoogle || []).push({\n",
       "      google_ad_client: \"ca-pub-9655830461045889\",\n",
       "      enable_page_level_ads: true\n",
       "    });\n",
       "  </script>\n",
       "</head>\n",
       "<body>\n",
       "<nav class=\"navbar navbar-expand-lg navbar-dark bg-dark\">\n",
       "<a class=\"navbar-brand\" href=\"/\"><img alt=\"My image\" class=\"brandLogo\" src=\"/static/home/img/photo.png\"/></a>\n",
       "<button aria-controls=\"navbarSupportedContent\" aria-expanded=\"false\" aria-label=\"Toggle navigation\" class=\"navbar-toggler\" data-target=\"#navbarSupportedContent\" data-toggle=\"collapse\" type=\"button\">\n",
       "<span class=\"navbar-toggler-icon\"></span>\n",
       "</button>\n",
       "<div class=\"collapse navbar-collapse\" id=\"navbarSupportedContent\">\n",
       "<ul class=\"navbar-nav mr-auto\">\n",
       "<li class=\"nav-item font-weight-bold\">\n",
       "<a class=\"nav-link\" href=\"/\">Home</a>\n",
       "</li>\n",
       "<li class=\"nav-item font-weight-bold\">\n",
       "<a class=\"nav-link\" href=\"/videos\">Videos</a>\n",
       "</li>\n",
       "<li class=\"nav-item font-weight-bold\">\n",
       "<a class=\"nav-link\" href=\"/blog\">Blog</a>\n",
       "</li>\n",
       "<li class=\"nav-item font-weight-bold\">\n",
       "<a class=\"nav-link\" href=\"/contact\">Contact Me</a>\n",
       "</li>\n",
       "</ul>\n",
       "<form action=\"/search/\" class=\"form-inline my-2 my-lg-0 mr-3\" method=\"get\">\n",
       "<input aria-label=\"Search\" class=\"form-control mr-sm-2\" name=\"query\" placeholder=\"Search\" type=\"search\"/>\n",
       "<button class=\"btn btn-danger my-2 my-sm-0\" type=\"submit\">Search</button>\n",
       "</form>\n",
       "<div>\n",
       "<button class=\"btn btn-danger\" data-target=\"#loginModal\" data-toggle=\"modal\" type=\"button\">Login</button>\n",
       "<button class=\"btn btn-danger\" data-target=\"#signupModal\" data-toggle=\"modal\" type=\"button\">SignUp</button>\n",
       "</div>\n",
       "</div>\n",
       "</nav>\n",
       "<!-- Login Modal -->\n",
       "<div aria-hidden=\"true\" aria-labelledby=\"loginModal\" class=\"modal fade\" id=\"loginModal\" role=\"dialog\" tabindex=\"-1\">\n",
       "<div class=\"modal-dialog\" role=\"document\">\n",
       "<div class=\"modal-content\">\n",
       "<div class=\"modal-header\">\n",
       "<h5 class=\"modal-title\" id=\"loginModal\">Login using your credentials</h5>\n",
       "<button aria-label=\"Close\" class=\"close\" data-dismiss=\"modal\" type=\"button\">\n",
       "<span aria-hidden=\"true\">×</span>\n",
       "</button>\n",
       "</div>\n",
       "<div class=\"modal-body\">\n",
       "<form action=\"/profile/login\" method=\"post\"><input name=\"csrfmiddlewaretoken\" type=\"hidden\" value=\"CYSWsFjOapadcp2gxFbARWpK5Bm4vH2EdgigU4VXxA66OEfLSSI0prwdvkklgaRh\"/>\n",
       "<div class=\"form-group\">\n",
       "<label for=\"lusername\">Username</label>\n",
       "<input class=\"form-control\" id=\"luname\" name=\"uname\" placeholder=\"Enter your username\" type=\"name\"/>\n",
       "</div>\n",
       "<div class=\"form-group\">\n",
       "<label for=\"password\">Password</label>\n",
       "<input class=\"form-control\" id=\"lpassword\" name=\"password\" placeholder=\"Enter your password\" type=\"password\"/>\n",
       "</div>\n",
       "<div class=\"g-recaptcha\" data-sitekey=\"6LdvcqwUAAAAACmPYNVoiJA7D84xLSQQt5g9p10m\"></div>\n",
       "<input name=\"path\" type=\"hidden\" value=\"/\"/>\n",
       "<button class=\"btn btn-danger mt-2\" id=\"loginsubmit\" type=\"submit\">Login</button>\n",
       "</form>\n",
       "</div>\n",
       "<div class=\"modal-footer\">\n",
       "<button class=\"btn btn-secondary\" data-dismiss=\"modal\" type=\"button\">Close</button>\n",
       "</div>\n",
       "</div>\n",
       "</div>\n",
       "</div>\n",
       "<!-- SignUp Modal -->\n",
       "<div aria-hidden=\"true\" aria-labelledby=\"signupModal\" class=\"modal fade\" id=\"signupModal\" role=\"dialog\" tabindex=\"-1\">\n",
       "<div class=\"modal-dialog\" role=\"document\">\n",
       "<div class=\"modal-content\">\n",
       "<div class=\"modal-header\">\n",
       "<h5 class=\"modal-title\" id=\"signupModal\">SignUp for an account</h5>\n",
       "<button aria-label=\"Close\" class=\"close\" data-dismiss=\"modal\" type=\"button\">\n",
       "<span aria-hidden=\"true\">×</span>\n",
       "</button>\n",
       "</div>\n",
       "<div class=\"modal-body\">\n",
       "<form action=\"/profile/signup\" method=\"post\" name=\"contact\"><input name=\"csrfmiddlewaretoken\" type=\"hidden\" value=\"CYSWsFjOapadcp2gxFbARWpK5Bm4vH2EdgigU4VXxA66OEfLSSI0prwdvkklgaRh\"/>\n",
       "<div class=\"form-group\">\n",
       "<label for=\"uname\">Username</label>\n",
       "<input class=\"form-control\" id=\"uname\" name=\"uname\" placeholder=\"Enter your Name\" type=\"text\"/>\n",
       "<small class=\"form-text text-muted px-1\" id=\"unamehelp\">\n",
       "              Your unique username must be less than 10 characters (only lowecase letters, numbers &amp; underscores\n",
       "              allowed) with no spaces\n",
       "            </small>\n",
       "</div>\n",
       "<div class=\"form-group\">\n",
       "<label for=\"name\">First Name</label>\n",
       "<input class=\"form-control\" id=\"fname\" name=\"fname\" placeholder=\"Enter your First Name\" type=\"text\"/>\n",
       "</div>\n",
       "<div class=\"form-group\">\n",
       "<label for=\"name\">Last Name</label>\n",
       "<input class=\"form-control\" id=\"lname\" name=\"lname\" placeholder=\"Enter your Last Name\" type=\"text\"/>\n",
       "</div>\n",
       "<div class=\"form-group\">\n",
       "<label for=\"email\">Your Email</label>\n",
       "<div class=\"mx-0\">\n",
       "<div class=\"col-md-8 px-0\">\n",
       "<input class=\"form-control\" id=\"email\" name=\"email\" placeholder=\"Enter your Email\" type=\"email\"/>\n",
       "<small class=\"form-text\" id=\"otpMessage\"></small>\n",
       "</div>\n",
       "<div class=\"col-md-4 my-1 px-0\">\n",
       "<button class=\"btn btn-danger btn-sm mt-2\" id=\"otpbtn\">Send OTP</button>\n",
       "</div>\n",
       "</div>\n",
       "</div>\n",
       "<div class=\"form-group\">\n",
       "<label for=\"otp\">Enter OTP</label>\n",
       "<input class=\"form-control\" id=\"otp\" name=\"otp\" placeholder=\"Enter OTP\" type=\"text\"/>\n",
       "</div>\n",
       "<div class=\"form-group\">\n",
       "<label for=\"password\">Choose a password</label>\n",
       "<input class=\"form-control\" id=\"password\" name=\"password\" placeholder=\"Choose a password\" type=\"password\"/>\n",
       "</div>\n",
       "<div class=\"form-group\">\n",
       "<label for=\"password2\">Retype a password</label>\n",
       "<input class=\"form-control\" id=\"password2\" name=\"password2\" placeholder=\"Retype your password\" type=\"password\"/>\n",
       "</div>\n",
       "<div class=\"g-recaptcha\" data-sitekey=\"6LdvcqwUAAAAACmPYNVoiJA7D84xLSQQt5g9p10m\"></div>\n",
       "<input name=\"path\" type=\"hidden\" value=\"/\"/>\n",
       "<button class=\"btn btn-danger mt-2\" type=\"submit\">SignUp</button>\n",
       "</form>\n",
       "</div>\n",
       "<div class=\"modal-footer\">\n",
       "<button class=\"btn btn-secondary\" data-dismiss=\"modal\" type=\"button\">Close</button>\n",
       "</div>\n",
       "</div>\n",
       "</div>\n",
       "</div>\n",
       "<section class=\"jumbotron text-center\">\n",
       "<div class=\"container\">\n",
       "<img alt=\"logo\" src=\"/static/home/img/photo.png\" width=\"120\"/>\n",
       "<h1 class=\"jumbotron-heading\"><span id=\"typed\"></span></h1>\n",
       "<p class=\"lead text-muted\">Confused on which course to take? I have got you covered. Browse courses and find out\n",
       "            the best course for you. Its free!<br/>Code With Harry is my attempt to teach basics and those coding\n",
       "            techniques to people in short time which took me ages to learn.</p>\n",
       "<p>\n",
       "<a class=\"btn btn-danger my-2\" href=\"/blog\">Browse Blog</a>\n",
       "<a class=\"btn btn-success my-2\" href=\"/videos\">Browse Video Tutorials</a>\n",
       "<a class=\"btn btn-primary my-2\" href=\"/contact\">Contact Me</a>\n",
       "</p>\n",
       "</div>\n",
       "</section>\n",
       "<div class=\"container\">\n",
       "<div class=\"row\">\n",
       "<div class=\"card mx-auto my-2 p-2 align-items-center\" style=\"width: 18rem;\">\n",
       "<img alt=\"...\" class=\"padded card-img-top\" src=\"/static/home/img/coding.jpg\"/>\n",
       "<div class=\"card-body\">\n",
       "<h5 class=\"card-title text-center\">Free Video Courses</h5>\n",
       "<p class=\"card-text text-center\">Get your programming career started with these free video courses. Source code is\n",
       "                    available with all the videos for your better experience</p>\n",
       "<a class=\"btn btn-primary d-block\" href=\"/videos\">Browse Video Courses</a>\n",
       "</div>\n",
       "</div>\n",
       "<div class=\"card mx-auto my-2 p-2 align-items-center\" style=\"width: 18rem;\">\n",
       "<img alt=\"...\" class=\"padded card-img-top\" src=\"/static/home/img/lambda.png\"/>\n",
       "<div class=\"card-body\">\n",
       "<h5 class=\"card-title text-center\">Coding Articles</h5>\n",
       "<p class=\"card-text text-center\">Some of the latest coding information compiled as coding articles. Keep your\n",
       "                    programming knowledge up to date with our coding articles.</p>\n",
       "<a class=\"btn btn-primary d-block\" href=\"/blog\">Go to Blog</a>\n",
       "</div>\n",
       "</div>\n",
       "<div class=\"card mx-auto my-2 p-2 align-items-center\" style=\"width: 18rem;\">\n",
       "<img alt=\"...\" class=\"padded card-img-top\" src=\"/static/home/img/python.png\"/>\n",
       "<div class=\"card-body\">\n",
       "<h5 class=\"card-title text-center\">Contact Me</h5>\n",
       "<p class=\"card-text text-center\">Learn programming from our free courses. Examples are available with these\n",
       "                    tutorials. You can contact me for any doubt and I will get back to you!</p>\n",
       "<a class=\"btn btn-primary d-block\" href=\"/contact\">Contact Me</a>\n",
       "</div>\n",
       "</div>\n",
       "</div>\n",
       "</div>\n",
       "<!-- FOOTER -->\n",
       "<footer class=\"container-fluid bg-dark my-0 py-3 text-light\">\n",
       "<p class=\"mb-0 text-center\">© 2020-2021 CodeWithHarry.com</p>\n",
       "<p class=\"mb-0 text-center\">\n",
       "<a href=\"#\">Back to top |</a>\n",
       "<a href=\"#\">Privacy |</a>\n",
       "<a href=\"#\">Terms</a>\n",
       "</p>\n",
       "</footer>\n",
       "<!-- Custom JavaScript -->\n",
       "<script defer=\"\" src=\"https://apis.google.com/js/platform.js\"></script>\n",
       "<script async=\"\" defer=\"\" src=\"https://www.google.com/recaptcha/api.js\"></script>\n",
       "<!-- jQuery first, then Popper.js, then Bootstrap JS -->\n",
       "<script crossorigin=\"anonymous\" integrity=\"sha384-q8i/X+965DzO0rT7abK41JStQIAqVgRVzpbzo5smXKp4YfRvH+8abtTE1Pi6jizo\" src=\"https://code.jquery.com/jquery-3.3.1.slim.min.js\"></script>\n",
       "<script crossorigin=\"anonymous\" integrity=\"sha384-UO2eT0CpHqdSJQ6hJty5KVphtPhzWj9WO1clHTMGa3JDZwrnQq4sF86dIHNDz0W1\" src=\"https://cdnjs.cloudflare.com/ajax/libs/popper.js/1.14.7/umd/popper.min.js\"></script>\n",
       "<script crossorigin=\"anonymous\" integrity=\"sha384-JjSmVgyd0p3pXB1rRibZUAYoIIy6OrQ6VrjIEaFf/nJGzIxFDsf4x0xIM+B07jRM\" src=\"https://stackpath.bootstrapcdn.com/bootstrap/4.3.1/js/bootstrap.min.js\"></script>\n",
       "<script crossorigin=\"anonymous\" defer=\"\" src=\"https://kit.fontawesome.com/433888fe69.js\"></script>\n",
       "<script>\n",
       "    function getCookie(name) {\n",
       "      const value = `; ${document.cookie}`;\n",
       "      const parts = value.split(`; ${name}=`);\n",
       "      if (parts.length === 2) return parts.pop().split(';').shift();\n",
       "    }\n",
       "    let otpbtn = document.getElementById('otpbtn');\n",
       "    if (otpbtn != undefined) {\n",
       "      otpbtn.addEventListener('click', (e) => {\n",
       "        otpbtn.innerText = 'Sending...';\n",
       "        e.preventDefault();\n",
       "        if (!otpbtn.classList.contains('disabled')) {\n",
       "          otpbtn.classList.add('disabled');\n",
       "          otpbtn.disabled = true;\n",
       "          csrf_token = getCookie('csrftoken');\n",
       "          let formData = new FormData();\n",
       "          formData.append('email', document.getElementById('email').value);\n",
       "          formData.append('csrfmiddlewaretoken', csrf_token);\n",
       "          fetch('/utils/sendotp', {\n",
       "            method: 'POST',\n",
       "            body: formData\n",
       "          })\n",
       "            .then(response => response.text())\n",
       "            .then(data => {\n",
       "              console.log(data);\n",
       "              if (data.startsWith(\"Error\")) {\n",
       "                otpMessage.classList.add('text-danger');\n",
       "                otpbtn.innerText = 'Error';\n",
       "              }\n",
       "              else {\n",
       "                otpMessage.classList.add('text-success');\n",
       "                otpbtn.innerText = 'OTP Sent';\n",
       "              }\n",
       "              otpMessage.innerText = data;\n",
       "            })\n",
       "            .catch(error => {\n",
       "              console.error(error)\n",
       "            })\n",
       "        }\n",
       "        else {\n",
       "          // Otp has already been sent\n",
       "        }\n",
       "\n",
       "      });\n",
       "    }\n",
       "  </script>\n",
       "<script async=\"\" defer=\"\" src=\"https://cdnjs.cloudflare.com/ajax/libs/typed.js/2.0.9/typed.min.js\"></script>\n",
       "<script>\n",
       "    window.onload = function () {\n",
       "        console.log(\"loaded\")\n",
       "        var typed = new Typed('#typed', {\n",
       "            strings: [\"Welcome to CodeWithHarry\", \"Learn Python\", \"Web development\", \"Data Science\", \"Machine Learning\", \"and other awesome programming concepts with me :)\"],\n",
       "            backSpeed: 15,\n",
       "            smartBackspace: true,\n",
       "            backDelay: 1200,\n",
       "            startDelay: 1000,\n",
       "            typeSpeed: 25,\n",
       "            loop: true,\n",
       "        });\n",
       "    };\n",
       "</script>\n",
       "</body>\n",
       "</html>>"
      ]
     },
     "execution_count": 11,
     "metadata": {},
     "output_type": "execute_result"
    }
   ],
   "source": [
    "#pretyfy the content\n",
    "soup.prettify"
   ]
  },
  {
   "cell_type": "code",
   "execution_count": 12,
   "metadata": {},
   "outputs": [
    {
     "data": {
      "text/plain": [
       "<title>Free Programming Videos, Courses &amp; More In Hindi - Code With Harry</title>"
      ]
     },
     "execution_count": 12,
     "metadata": {},
     "output_type": "execute_result"
    }
   ],
   "source": [
    "#HTML tree traversal\n",
    "title=soup.title\n",
    "#get the title of html page\n",
    "title"
   ]
  },
  {
   "cell_type": "code",
   "execution_count": 13,
   "metadata": {},
   "outputs": [
    {
     "name": "stdout",
     "output_type": "stream",
     "text": [
      "<class 'bs4.element.Tag'>\n"
     ]
    }
   ],
   "source": [
    "print(type(title))"
   ]
  },
  {
   "cell_type": "code",
   "execution_count": 15,
   "metadata": {},
   "outputs": [
    {
     "data": {
      "text/plain": [
       "'Free Programming Videos, Courses & More In Hindi - Code With Harry'"
      ]
     },
     "execution_count": 15,
     "metadata": {},
     "output_type": "execute_result"
    }
   ],
   "source": [
    "title.string"
   ]
  },
  {
   "cell_type": "code",
   "execution_count": 16,
   "metadata": {},
   "outputs": [
    {
     "data": {
      "text/plain": [
       "bs4.element.NavigableString"
      ]
     },
     "execution_count": 16,
     "metadata": {},
     "output_type": "execute_result"
    }
   ],
   "source": [
    "type(title.string)"
   ]
  },
  {
   "cell_type": "code",
   "execution_count": 17,
   "metadata": {},
   "outputs": [
    {
     "data": {
      "text/plain": [
       "bs4.BeautifulSoup"
      ]
     },
     "execution_count": 17,
     "metadata": {},
     "output_type": "execute_result"
    }
   ],
   "source": [
    "type(soup)"
   ]
  },
  {
   "cell_type": "code",
   "execution_count": 18,
   "metadata": {},
   "outputs": [
    {
     "data": {
      "text/plain": [
       "[<p class=\"lead text-muted\">Confused on which course to take? I have got you covered. Browse courses and find out\n",
       "             the best course for you. Its free!<br/>Code With Harry is my attempt to teach basics and those coding\n",
       "             techniques to people in short time which took me ages to learn.</p>,\n",
       " <p>\n",
       " <a class=\"btn btn-danger my-2\" href=\"/blog\">Browse Blog</a>\n",
       " <a class=\"btn btn-success my-2\" href=\"/videos\">Browse Video Tutorials</a>\n",
       " <a class=\"btn btn-primary my-2\" href=\"/contact\">Contact Me</a>\n",
       " </p>,\n",
       " <p class=\"card-text text-center\">Get your programming career started with these free video courses. Source code is\n",
       "                     available with all the videos for your better experience</p>,\n",
       " <p class=\"card-text text-center\">Some of the latest coding information compiled as coding articles. Keep your\n",
       "                     programming knowledge up to date with our coding articles.</p>,\n",
       " <p class=\"card-text text-center\">Learn programming from our free courses. Examples are available with these\n",
       "                     tutorials. You can contact me for any doubt and I will get back to you!</p>,\n",
       " <p class=\"mb-0 text-center\">© 2020-2021 CodeWithHarry.com</p>,\n",
       " <p class=\"mb-0 text-center\">\n",
       " <a href=\"#\">Back to top |</a>\n",
       " <a href=\"#\">Privacy |</a>\n",
       " <a href=\"#\">Terms</a>\n",
       " </p>]"
      ]
     },
     "execution_count": 18,
     "metadata": {},
     "output_type": "execute_result"
    }
   ],
   "source": [
    "#get all the paragraph from the page\n",
    "paras=soup.find_all('p')\n",
    "paras"
   ]
  },
  {
   "cell_type": "code",
   "execution_count": 19,
   "metadata": {},
   "outputs": [
    {
     "data": {
      "text/plain": [
       "[<a class=\"navbar-brand\" href=\"/\"><img alt=\"My image\" class=\"brandLogo\" src=\"/static/home/img/photo.png\"/></a>,\n",
       " <a class=\"nav-link\" href=\"/\">Home</a>,\n",
       " <a class=\"nav-link\" href=\"/videos\">Videos</a>,\n",
       " <a class=\"nav-link\" href=\"/blog\">Blog</a>,\n",
       " <a class=\"nav-link\" href=\"/contact\">Contact Me</a>,\n",
       " <a class=\"btn btn-danger my-2\" href=\"/blog\">Browse Blog</a>,\n",
       " <a class=\"btn btn-success my-2\" href=\"/videos\">Browse Video Tutorials</a>,\n",
       " <a class=\"btn btn-primary my-2\" href=\"/contact\">Contact Me</a>,\n",
       " <a class=\"btn btn-primary d-block\" href=\"/videos\">Browse Video Courses</a>,\n",
       " <a class=\"btn btn-primary d-block\" href=\"/blog\">Go to Blog</a>,\n",
       " <a class=\"btn btn-primary d-block\" href=\"/contact\">Contact Me</a>,\n",
       " <a href=\"#\">Back to top |</a>,\n",
       " <a href=\"#\">Privacy |</a>,\n",
       " <a href=\"#\">Terms</a>]"
      ]
     },
     "execution_count": 19,
     "metadata": {},
     "output_type": "execute_result"
    }
   ],
   "source": [
    "#get all the anchor tags from the page\n",
    "anchors=soup.find_all('a')\n",
    "anchors"
   ]
  },
  {
   "cell_type": "code",
   "execution_count": 21,
   "metadata": {},
   "outputs": [
    {
     "data": {
      "text/plain": [
       "<p class=\"lead text-muted\">Confused on which course to take? I have got you covered. Browse courses and find out\n",
       "            the best course for you. Its free!<br/>Code With Harry is my attempt to teach basics and those coding\n",
       "            techniques to people in short time which took me ages to learn.</p>"
      ]
     },
     "execution_count": 21,
     "metadata": {},
     "output_type": "execute_result"
    }
   ],
   "source": [
    "#get the first element\n",
    "soup.find('p')"
   ]
  },
  {
   "cell_type": "code",
   "execution_count": 23,
   "metadata": {},
   "outputs": [
    {
     "data": {
      "text/plain": [
       "['lead', 'text-muted']"
      ]
     },
     "execution_count": 23,
     "metadata": {},
     "output_type": "execute_result"
    }
   ],
   "source": [
    "#get any element of class element\n",
    "soup.find('p')['class']"
   ]
  },
  {
   "cell_type": "code",
   "execution_count": 24,
   "metadata": {},
   "outputs": [
    {
     "data": {
      "text/plain": [
       "[<p class=\"lead text-muted\">Confused on which course to take? I have got you covered. Browse courses and find out\n",
       "             the best course for you. Its free!<br/>Code With Harry is my attempt to teach basics and those coding\n",
       "             techniques to people in short time which took me ages to learn.</p>]"
      ]
     },
     "execution_count": 24,
     "metadata": {},
     "output_type": "execute_result"
    }
   ],
   "source": [
    "#find all the element with class lead\n",
    "soup.find_all('p',class_='lead')"
   ]
  },
  {
   "cell_type": "code",
   "execution_count": 25,
   "metadata": {},
   "outputs": [
    {
     "data": {
      "text/plain": [
       "'Confused on which course to take? I have got you covered. Browse courses and find out\\n            the best course for you. Its free!Code With Harry is my attempt to teach basics and those coding\\n            techniques to people in short time which took me ages to learn.'"
      ]
     },
     "execution_count": 25,
     "metadata": {},
     "output_type": "execute_result"
    }
   ],
   "source": [
    "#get the text from the tags/soup\n",
    "soup.find('p').get_text()"
   ]
  },
  {
   "cell_type": "code",
   "execution_count": 26,
   "metadata": {},
   "outputs": [
    {
     "data": {
      "text/plain": [
       "'\\n\\n\\n\\n\\n\\n\\nFree Programming Videos, Courses & More In Hindi - Code With Harry\\n\\n\\n\\n\\n\\n\\n\\n\\n    window.dataLayer = window.dataLayer || [];\\n    function gtag() { dataLayer.push(arguments); }\\n    gtag(\\'js\\', new Date());\\n    gtag(\\'config\\', \\'UA-60726752-3\\');\\n  \\n\\n\\n\\n    (adsbygoogle = window.adsbygoogle || []).push({\\n      google_ad_client: \"ca-pub-9655830461045889\",\\n      enable_page_level_ads: true\\n    });\\n  \\n\\n\\n\\n\\n\\n\\n\\n\\n\\n\\nHome\\n\\n\\nVideos\\n\\n\\nBlog\\n\\n\\nContact Me\\n\\n\\n\\n\\nSearch\\n\\n\\nLogin\\nSignUp\\n\\n\\n\\n\\n\\n\\n\\n\\nLogin using your credentials\\n\\n×\\n\\n\\n\\n\\n\\nUsername\\n\\n\\n\\nPassword\\n\\n\\n\\n\\nLogin\\n\\n\\n\\nClose\\n\\n\\n\\n\\n\\n\\n\\n\\n\\nSignUp for an account\\n\\n×\\n\\n\\n\\n\\n\\nUsername\\n\\n\\n              Your unique username must be less than 10 characters (only lowecase letters, numbers & underscores\\n              allowed) with no spaces\\n            \\n\\n\\nFirst Name\\n\\n\\n\\nLast Name\\n\\n\\n\\nYour Email\\n\\n\\n\\n\\n\\n\\nSend OTP\\n\\n\\n\\n\\nEnter OTP\\n\\n\\n\\nChoose a password\\n\\n\\n\\nRetype a password\\n\\n\\n\\n\\nSignUp\\n\\n\\n\\nClose\\n\\n\\n\\n\\n\\n\\n\\n\\nConfused on which course to take? I have got you covered. Browse courses and find out\\n            the best course for you. Its free!Code With Harry is my attempt to teach basics and those coding\\n            techniques to people in short time which took me ages to learn.\\n\\nBrowse Blog\\nBrowse Video Tutorials\\nContact Me\\n\\n\\n\\n\\n\\n\\n\\n\\nFree Video Courses\\nGet your programming career started with these free video courses. Source code is\\n                    available with all the videos for your better experience\\nBrowse Video Courses\\n\\n\\n\\n\\n\\nCoding Articles\\nSome of the latest coding information compiled as coding articles. Keep your\\n                    programming knowledge up to date with our coding articles.\\nGo to Blog\\n\\n\\n\\n\\n\\nContact Me\\nLearn programming from our free courses. Examples are available with these\\n                    tutorials. You can contact me for any doubt and I will get back to you!\\nContact Me\\n\\n\\n\\n\\n\\n\\n© 2020-2021 CodeWithHarry.com\\n\\nBack to top |\\nPrivacy |\\nTerms\\n\\n\\n\\n\\n\\n\\n\\n\\n\\n\\n\\n    function getCookie(name) {\\n      const value = `; ${document.cookie}`;\\n      const parts = value.split(`; ${name}=`);\\n      if (parts.length === 2) return parts.pop().split(\\';\\').shift();\\n    }\\n    let otpbtn = document.getElementById(\\'otpbtn\\');\\n    if (otpbtn != undefined) {\\n      otpbtn.addEventListener(\\'click\\', (e) => {\\n        otpbtn.innerText = \\'Sending...\\';\\n        e.preventDefault();\\n        if (!otpbtn.classList.contains(\\'disabled\\')) {\\n          otpbtn.classList.add(\\'disabled\\');\\n          otpbtn.disabled = true;\\n          csrf_token = getCookie(\\'csrftoken\\');\\n          let formData = new FormData();\\n          formData.append(\\'email\\', document.getElementById(\\'email\\').value);\\n          formData.append(\\'csrfmiddlewaretoken\\', csrf_token);\\n          fetch(\\'/utils/sendotp\\', {\\n            method: \\'POST\\',\\n            body: formData\\n          })\\n            .then(response => response.text())\\n            .then(data => {\\n              console.log(data);\\n              if (data.startsWith(\"Error\")) {\\n                otpMessage.classList.add(\\'text-danger\\');\\n                otpbtn.innerText = \\'Error\\';\\n              }\\n              else {\\n                otpMessage.classList.add(\\'text-success\\');\\n                otpbtn.innerText = \\'OTP Sent\\';\\n              }\\n              otpMessage.innerText = data;\\n            })\\n            .catch(error => {\\n              console.error(error)\\n            })\\n        }\\n        else {\\n          // Otp has already been sent\\n        }\\n\\n      });\\n    }\\n  \\n\\n\\n    window.onload = function () {\\n        console.log(\"loaded\")\\n        var typed = new Typed(\\'#typed\\', {\\n            strings: [\"Welcome to CodeWithHarry\", \"Learn Python\", \"Web development\", \"Data Science\", \"Machine Learning\", \"and other awesome programming concepts with me :)\"],\\n            backSpeed: 15,\\n            smartBackspace: true,\\n            backDelay: 1200,\\n            startDelay: 1000,\\n            typeSpeed: 25,\\n            loop: true,\\n        });\\n    };\\n\\n\\n'"
      ]
     },
     "execution_count": 26,
     "metadata": {},
     "output_type": "execute_result"
    }
   ],
   "source": [
    "#get all the text\n",
    "soup.get_text()"
   ]
  },
  {
   "cell_type": "code",
   "execution_count": 27,
   "metadata": {},
   "outputs": [
    {
     "name": "stdout",
     "output_type": "stream",
     "text": [
      "/\n",
      "/\n",
      "/videos\n",
      "/blog\n",
      "/contact\n",
      "/blog\n",
      "/videos\n",
      "/contact\n",
      "/videos\n",
      "/blog\n",
      "/contact\n",
      "#\n",
      "#\n",
      "#\n"
     ]
    }
   ],
   "source": [
    "#get all the link on the page\n",
    "for link in anchors:\n",
    "    print(link.get('href'))"
   ]
  },
  {
   "cell_type": "code",
   "execution_count": 31,
   "metadata": {},
   "outputs": [
    {
     "name": "stdout",
     "output_type": "stream",
     "text": [
      "{'https://codewithharry.com/contact', 'https://codewithharry.com/', 'https://codewithharry.com/videos', 'https://codewithharry.com/blog'}\n"
     ]
    }
   ],
   "source": [
    "#create a set,like list \n",
    "all_link=set()\n",
    "for link in anchors:\n",
    "    if(link.get('href')!='#'):\n",
    "        all_link.add('https://codewithharry.com'+link.get('href'))\n",
    "print(all_link)"
   ]
  },
  {
   "cell_type": "code",
   "execution_count": null,
   "metadata": {},
   "outputs": [],
   "source": []
  }
 ],
 "metadata": {
  "kernelspec": {
   "display_name": "Python 3",
   "language": "python",
   "name": "python3"
  },
  "language_info": {
   "codemirror_mode": {
    "name": "ipython",
    "version": 3
   },
   "file_extension": ".py",
   "mimetype": "text/x-python",
   "name": "python",
   "nbconvert_exporter": "python",
   "pygments_lexer": "ipython3",
   "version": "3.7.6"
  }
 },
 "nbformat": 4,
 "nbformat_minor": 4
}
